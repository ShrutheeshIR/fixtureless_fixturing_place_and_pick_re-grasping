{
 "cells": [
  {
   "cell_type": "code",
   "execution_count": 1,
   "metadata": {},
   "outputs": [],
   "source": [
    "import numpy as np\n",
    "from scipy.spatial.transform import Rotation as R\n"
   ]
  },
  {
   "cell_type": "code",
   "execution_count": 7,
   "metadata": {},
   "outputs": [],
   "source": [
    "def normalize(x):\n",
    "    return x/np.linalg.norm(x)\n"
   ]
  },
  {
   "cell_type": "code",
   "execution_count": 17,
   "metadata": {},
   "outputs": [],
   "source": [
    "waypoint1 = np.asarray([0.66905977, 0.18798158, 0.6104674])\n",
    "waypoint2 = np.asarray([0.95878218, 0.11013299, 0.6104674])"
   ]
  },
  {
   "cell_type": "code",
   "execution_count": 18,
   "metadata": {},
   "outputs": [],
   "source": [
    "direction_vector = (waypoint2 - waypoint1).reshape((3,1))\n",
    "direction_vector /= np.linalg.norm(direction_vector)\n"
   ]
  },
  {
   "cell_type": "code",
   "execution_count": 22,
   "metadata": {},
   "outputs": [],
   "source": [
    "y_vector = np.asarray([0,0,+1])\n",
    "x_vector = normalize(np.cross(y_vector, direction_vector, axis=0).squeeze())\n",
    "final_body_ori = np.eye(3)\n",
    "final_body_ori[:3,0] = x_vector\n",
    "final_body_ori[:3,1] = y_vector\n",
    "final_body_ori[:3,2] = direction_vector.squeeze()\n",
    "final_body_pos = waypoint1"
   ]
  },
  {
   "cell_type": "code",
   "execution_count": 23,
   "metadata": {},
   "outputs": [],
   "source": [
    "final_body_pose = np.eye(4)\n",
    "final_body_pose[:3, :3] = final_body_ori\n",
    "final_body_pose[:3, 3] = final_body_pos\n"
   ]
  },
  {
   "cell_type": "code",
   "execution_count": 24,
   "metadata": {},
   "outputs": [
    {
     "data": {
      "text/plain": [
       "array([[ 0.25949605,  0.        ,  0.96574417,  0.66905977],\n",
       "       [ 0.96574417,  0.        , -0.25949605,  0.18798158],\n",
       "       [-0.        ,  1.        ,  0.        ,  0.6104674 ],\n",
       "       [ 0.        ,  0.        ,  0.        ,  1.        ]])"
      ]
     },
     "execution_count": 24,
     "metadata": {},
     "output_type": "execute_result"
    }
   ],
   "source": [
    "final_body_pose"
   ]
  },
  {
   "cell_type": "code",
   "execution_count": null,
   "metadata": {},
   "outputs": [],
   "source": []
  }
 ],
 "metadata": {
  "kernelspec": {
   "display_name": "Python 2",
   "language": "python",
   "name": "python2"
  },
  "language_info": {
   "codemirror_mode": {
    "name": "ipython",
    "version": 2
   },
   "file_extension": ".py",
   "mimetype": "text/x-python",
   "name": "python",
   "nbconvert_exporter": "python",
   "pygments_lexer": "ipython2",
   "version": "2.7.17"
  }
 },
 "nbformat": 4,
 "nbformat_minor": 5
}
