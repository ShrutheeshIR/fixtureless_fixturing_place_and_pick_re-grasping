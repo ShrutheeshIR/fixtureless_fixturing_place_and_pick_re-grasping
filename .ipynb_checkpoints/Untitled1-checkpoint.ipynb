{
 "cells": [
  {
   "cell_type": "code",
   "execution_count": 14,
   "metadata": {},
   "outputs": [],
   "source": [
    "import numpy as np\n",
    "from scipy.spatial.transform import Rotation as R\n",
    "np.set_printoptions(suppress=True)"
   ]
  },
  {
   "cell_type": "code",
   "execution_count": null,
   "metadata": {},
   "outputs": [],
   "source": []
  },
  {
   "cell_type": "code",
   "execution_count": 33,
   "metadata": {},
   "outputs": [
    {
     "data": {
      "text/plain": [
       "array([[ 0.00565765,  0.999984  ,  0.000008  ,  0.071     ],\n",
       "       [-0.99997999,  0.00565765, -0.00282883,  0.006     ],\n",
       "       [-0.00282883,  0.000008  ,  0.999996  ,  0.047     ],\n",
       "       [ 0.        ,  0.        ,  0.        ,  1.        ]])"
      ]
     },
     "execution_count": 33,
     "metadata": {},
     "output_type": "execute_result"
    }
   ],
   "source": [
    "B = np.eye(4)\n",
    "q = np.asarray([0.001, 0.001, -0.705, 0.709])\n",
    "B[:3, :3] = R.from_quat(q).as_dcm()\n",
    "B[:3, 3] = [0.071, 0.006, 0.047]\n",
    "B"
   ]
  },
  {
   "cell_type": "code",
   "execution_count": 34,
   "metadata": {},
   "outputs": [
    {
     "data": {
      "text/plain": [
       "array([[ 0.00565765,  0.999984  ,  0.000008  ,  0.702     ],\n",
       "       [-0.99997999,  0.00565765, -0.00282883,  0.136     ],\n",
       "       [-0.00282883,  0.000008  ,  0.999996  ,  0.665     ],\n",
       "       [ 0.        ,  0.        ,  0.        ,  1.        ]])"
      ]
     },
     "execution_count": 34,
     "metadata": {},
     "output_type": "execute_result"
    }
   ],
   "source": [
    "T = np.eye(4)\n",
    "q = np.asarray([0.001, 0.001, -0.705, 0.709])\n",
    "T[:3, :3] = R.from_quat(q).as_dcm()\n",
    "T[:3, 3] = [0.802, 0.136, 0.665]\n",
    "T"
   ]
  },
  {
   "cell_type": "code",
   "execution_count": 35,
   "metadata": {},
   "outputs": [
    {
     "data": {
      "text/plain": [
       "array([[ 1., -0.,  0.,  0.],\n",
       "       [ 0.,  0.,  1.,  0.],\n",
       "       [-0., -1.,  0.,  0.],\n",
       "       [ 0.,  0.,  0.,  1.]])"
      ]
     },
     "execution_count": 35,
     "metadata": {},
     "output_type": "execute_result"
    }
   ],
   "source": [
    "#now rotate T about x axis by 90 degrees\n",
    "rot = np.eye(4)\n",
    "rot[:3, :3] = R.from_euler('xyz', [-90,0,0], degrees=True).as_dcm()\n",
    "rot"
   ]
  },
  {
   "cell_type": "code",
   "execution_count": 36,
   "metadata": {},
   "outputs": [
    {
     "data": {
      "text/plain": [
       "array([[ 0.00565765, -0.000008  ,  0.999984  ,  0.702     ],\n",
       "       [-0.99997999,  0.00282883,  0.00565765,  0.136     ],\n",
       "       [-0.00282883, -0.999996  ,  0.000008  ,  0.665     ],\n",
       "       [ 0.        ,  0.        ,  0.        ,  1.        ]])"
      ]
     },
     "execution_count": 36,
     "metadata": {},
     "output_type": "execute_result"
    }
   ],
   "source": [
    "new_pos = np.matmul(T, rot)\n",
    "new_pos"
   ]
  },
  {
   "cell_type": "code",
   "execution_count": 37,
   "metadata": {},
   "outputs": [
    {
     "data": {
      "text/plain": [
       "array([[ 0.00003201, -0.00848636,  0.99996399,  0.65505034],\n",
       "       [-0.00282871,  0.99995999,  0.00848642,  0.12980222],\n",
       "       [-0.999996  , -0.00282888,  0.000008  ,  0.73601631],\n",
       "       [ 0.        ,  0.        ,  0.        ,  1.        ]])"
      ]
     },
     "execution_count": 37,
     "metadata": {},
     "output_type": "execute_result"
    }
   ],
   "source": [
    "np.matmul(new_pos, np.linalg.inv(B))"
   ]
  },
  {
   "cell_type": "code",
   "execution_count": 31,
   "metadata": {},
   "outputs": [
    {
     "data": {
      "text/plain": [
       "array([[ 1.   ,  0.   ,  0.   ,  0.631],\n",
       "       [-0.   ,  1.   ,  0.   ,  0.13 ],\n",
       "       [ 0.   , -0.   ,  1.   ,  0.618],\n",
       "       [ 0.   ,  0.   ,  0.   ,  1.   ]])"
      ]
     },
     "execution_count": 31,
     "metadata": {},
     "output_type": "execute_result"
    }
   ],
   "source": [
    "G = np.eye(4)\n",
    "q = np.asarray([-0.000, 0.000, -0.000, 1.000])\n",
    "G[:3, :3] = R.from_quat(q).as_dcm()\n",
    "G[:3, 3] = [0.631, 0.130, 0.618]\n",
    "G"
   ]
  },
  {
   "cell_type": "code",
   "execution_count": null,
   "metadata": {},
   "outputs": [],
   "source": []
  }
 ],
 "metadata": {
  "kernelspec": {
   "display_name": "Python 2",
   "language": "python",
   "name": "python2"
  },
  "language_info": {
   "codemirror_mode": {
    "name": "ipython",
    "version": 2
   },
   "file_extension": ".py",
   "mimetype": "text/x-python",
   "name": "python",
   "nbconvert_exporter": "python",
   "pygments_lexer": "ipython2",
   "version": "2.7.17"
  }
 },
 "nbformat": 4,
 "nbformat_minor": 2
}
