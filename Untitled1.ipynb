{
 "cells": [
  {
   "cell_type": "code",
   "execution_count": 2,
   "metadata": {},
   "outputs": [],
   "source": [
    "import numpy as np\n",
    "from scipy.spatial.transform import Rotation as R\n",
    "np.set_printoptions(suppress=True)"
   ]
  },
  {
   "cell_type": "code",
   "execution_count": null,
   "metadata": {},
   "outputs": [],
   "source": []
  },
  {
   "cell_type": "code",
   "execution_count": 5,
   "metadata": {},
   "outputs": [
    {
     "data": {
      "text/plain": [
       "array([[ 0.00320497,  0.78111356, -0.62438077,  0.035     ],\n",
       "       [ 0.99998301,  0.00053666,  0.00580433,  0.001     ],\n",
       "       [ 0.00486892, -0.62438876, -0.78109856, -0.133     ],\n",
       "       [ 0.        ,  0.        ,  0.        ,  1.        ]])"
      ]
     },
     "execution_count": 5,
     "metadata": {},
     "output_type": "execute_result"
    }
   ],
   "source": [
    "B = np.eye(4)\n",
    "q = np.asarray([0.668, 0.667, -0.232, -0.236])\n",
    "B[:3, :3] = R.from_quat(q).as_dcm()\n",
    "B[:3, 3] = [0.035, 0.001, -0.133]\n",
    "B"
   ]
  },
  {
   "cell_type": "code",
   "execution_count": 6,
   "metadata": {},
   "outputs": [
    {
     "data": {
      "text/plain": [
       "array([[-0.73782601, -0.6749894 , -0.00144848,  0.411     ],\n",
       "       [ 0.6749894 , -0.737818  , -0.00372922, -0.353     ],\n",
       "       [ 0.00144848, -0.00372922,  0.999992  ,  0.669     ],\n",
       "       [ 0.        ,  0.        ,  0.        ,  1.        ]])"
      ]
     },
     "execution_count": 6,
     "metadata": {},
     "output_type": "execute_result"
    }
   ],
   "source": [
    "T = np.eye(4)\n",
    "q = np.asarray([-0.000, -0.002, 0.932, 0.362])\n",
    "T[:3, :3] = R.from_quat(q).as_dcm()\n",
    "T[:3, 3] = [0.411, -0.353, 0.669]\n",
    "T"
   ]
  },
  {
   "cell_type": "code",
   "execution_count": 7,
   "metadata": {},
   "outputs": [
    {
     "data": {
      "text/plain": [
       "array([[ 1., -0.,  0.,  0.],\n",
       "       [ 0.,  0.,  1.,  0.],\n",
       "       [-0., -1.,  0.,  0.],\n",
       "       [ 0.,  0.,  0.,  1.]])"
      ]
     },
     "execution_count": 7,
     "metadata": {},
     "output_type": "execute_result"
    }
   ],
   "source": [
    "#now rotate T about x axis by 90 degrees\n",
    "rot = np.eye(4)\n",
    "rot[:3, :3] = R.from_euler('xyz', [-90,0,0], degrees=True).as_dcm()\n",
    "rot"
   ]
  },
  {
   "cell_type": "code",
   "execution_count": 8,
   "metadata": {},
   "outputs": [
    {
     "data": {
      "text/plain": [
       "array([[-0.73782601,  0.00144848, -0.6749894 ,  0.411     ],\n",
       "       [ 0.6749894 ,  0.00372922, -0.737818  , -0.353     ],\n",
       "       [ 0.00144848, -0.999992  , -0.00372922,  0.669     ],\n",
       "       [ 0.        ,  0.        ,  0.        ,  1.        ]])"
      ]
     },
     "execution_count": 8,
     "metadata": {},
     "output_type": "execute_result"
    }
   ],
   "source": [
    "new_pos = np.matmul(T, rot)\n",
    "new_pos"
   ]
  },
  {
   "cell_type": "code",
   "execution_count": 9,
   "metadata": {},
   "outputs": [
    {
     "data": {
      "text/plain": [
       "array([[ 0.42021711, -0.74173055,  0.52273642,  0.46655808],\n",
       "       [ 0.46575564,  0.67069739,  0.57726657, -0.29319569],\n",
       "       [-0.77877421,  0.00089015,  0.62730371,  0.7796876 ],\n",
       "       [ 0.        ,  0.        ,  0.        ,  1.        ]])"
      ]
     },
     "execution_count": 9,
     "metadata": {},
     "output_type": "execute_result"
    }
   ],
   "source": [
    "np.matmul(new_pos, np.linalg.inv(B))"
   ]
  },
  {
   "cell_type": "code",
   "execution_count": 3,
   "metadata": {},
   "outputs": [
    {
     "data": {
      "text/plain": [
       "array([[-0.47086716, -0.74915232,  0.46589152,  0.489     ],\n",
       "       [-0.52797362,  0.66238389,  0.53149924, -0.272     ],\n",
       "       [-0.70677293,  0.00428711, -0.70742749,  0.638     ],\n",
       "       [ 0.        ,  0.        ,  0.        ,  1.        ]])"
      ]
     },
     "execution_count": 3,
     "metadata": {},
     "output_type": "execute_result"
    }
   ],
   "source": [
    "G = np.eye(4)\n",
    "q = np.asarray([-0.379, 0.843, 0.159, 0.348])\n",
    "G[:3, :3] = R.from_quat(q).as_dcm()\n",
    "G[:3, 3] = [0.489, -0.272, 0.638]\n",
    "G"
   ]
  },
  {
   "cell_type": "code",
   "execution_count": 10,
   "metadata": {},
   "outputs": [
    {
     "data": {
      "text/plain": [
       "array([[-0.81382326,  0.58110934, -0.00190528],\n",
       "       [ 0.58110934,  0.81382526,  0.00061041],\n",
       "       [ 0.00190528, -0.00061041, -0.999998  ]])"
      ]
     },
     "execution_count": 10,
     "metadata": {},
     "output_type": "execute_result"
    }
   ],
   "source": [
    "R.from_quat([0.305, 0.952, -0.000, -0.001]).as_dcm()"
   ]
  },
  {
   "cell_type": "code",
   "execution_count": null,
   "metadata": {},
   "outputs": [],
   "source": []
  }
 ],
 "metadata": {
  "kernelspec": {
   "display_name": "Python 2",
   "language": "python",
   "name": "python2"
  },
  "language_info": {
   "codemirror_mode": {
    "name": "ipython",
    "version": 2
   },
   "file_extension": ".py",
   "mimetype": "text/x-python",
   "name": "python",
   "nbconvert_exporter": "python",
   "pygments_lexer": "ipython2",
   "version": "2.7.17"
  }
 },
 "nbformat": 4,
 "nbformat_minor": 2
}
